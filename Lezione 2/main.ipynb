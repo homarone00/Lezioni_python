{
 "cells": [
  {
   "metadata": {},
   "cell_type": "markdown",
   "source": [
    "# Neuropython - Lezione 2\n",
    "# I \"conditionals\""
   ],
   "id": "a377e46eae83da2a"
  },
  {
   "metadata": {},
   "cell_type": "markdown",
   "source": "In python, come detto nella lezione precedente, le variabili hanno un tipo. Oggi ci focalizzeremo sulle **variabili booleane**",
   "id": "aaec8f97b6492cb9"
  },
  {
   "metadata": {},
   "cell_type": "code",
   "outputs": [],
   "execution_count": null,
   "source": [
    "var1 = True #vero\n",
    "var2 = False #falso"
   ],
   "id": "aae86e2b5b763e2a"
  },
  {
   "metadata": {},
   "cell_type": "markdown",
   "source": "Attenzione a mettere la prima lettera (T o F) maiuscola!",
   "id": "ade293e9a9702087"
  },
  {
   "metadata": {},
   "cell_type": "markdown",
   "source": "Le variabili booleane possono essere definite da noi (come fatto prima) o calcolate. Per farlo, faremo uso degli operatori *and*, *or*, *==* e *!=*",
   "id": "18da73bca22c27ad"
  },
  {
   "metadata": {},
   "cell_type": "markdown",
   "source": [
    "# ==\n",
    "Questo operatore controlla se due numeri sono uguali. Perché \"due uguali\"? perché il \"singolo uguale\" è già usato per l'assegnamento!\n",
    "Proviamo a vedere cosa succede con qualche esempio"
   ],
   "id": "9896e0744a4078ba"
  },
  {
   "metadata": {
    "ExecuteTime": {
     "end_time": "2025-01-24T11:17:35.852853Z",
     "start_time": "2025-01-24T11:17:35.846690Z"
    }
   },
   "cell_type": "code",
   "source": "print(2 == 3)",
   "id": "40f509c08b25092a",
   "outputs": [
    {
     "name": "stdout",
     "output_type": "stream",
     "text": [
      "False\n"
     ]
    }
   ],
   "execution_count": 1
  },
  {
   "metadata": {},
   "cell_type": "markdown",
   "source": [
    "Possiamo vedere che fare 2 == 3 esegue un \"calcolo\" che ha come risultato \"Falso\" (dato che non sono uguali)\n",
    "Anche i risultati booleani possono essere messi dentro delle variabili"
   ],
   "id": "416f94746b3f8e99"
  },
  {
   "metadata": {
    "ExecuteTime": {
     "end_time": "2025-01-24T11:18:58.233931Z",
     "start_time": "2025-01-24T11:18:58.227778Z"
    }
   },
   "cell_type": "code",
   "source": [
    "var1 = (2==3) #ho messo le parentesi tonde per maggiore chiarezza, mettetele sempre anche voi\n",
    "print(var1)"
   ],
   "id": "a559b07e74f8321a",
   "outputs": [
    {
     "name": "stdout",
     "output_type": "stream",
     "text": [
      "False\n"
     ]
    }
   ],
   "execution_count": 2
  },
  {
   "metadata": {},
   "cell_type": "markdown",
   "source": [
    "# !=\n",
    "Questo operatore è come il precedente, ma controlla se due numeri sono diversi"
   ],
   "id": "ca0926a8461f021c"
  },
  {
   "metadata": {
    "ExecuteTime": {
     "end_time": "2025-01-24T11:20:16.273922Z",
     "start_time": "2025-01-24T11:20:16.267866Z"
    }
   },
   "cell_type": "code",
   "source": "print(2 != 3)",
   "id": "2a0fb8023e3319b9",
   "outputs": [
    {
     "name": "stdout",
     "output_type": "stream",
     "text": [
      "True\n"
     ]
    }
   ],
   "execution_count": 3
  },
  {
   "metadata": {
    "ExecuteTime": {
     "end_time": "2025-01-24T11:20:36.497678Z",
     "start_time": "2025-01-24T11:20:36.491868Z"
    }
   },
   "cell_type": "code",
   "source": [
    "var1 = (2!=3)\n",
    "print(var1)"
   ],
   "id": "63f677af5c07f605",
   "outputs": [
    {
     "name": "stdout",
     "output_type": "stream",
     "text": [
      "True\n"
     ]
    }
   ],
   "execution_count": 4
  },
  {
   "metadata": {},
   "cell_type": "markdown",
   "source": [
    "# and , or\n",
    "Questi operatori mettono in relazione, fra di loro, diverse (ad esempio due) variabili booleane <br>\n",
    "Esercizio 1: capire perché questo risultato fa \"vero\":"
   ],
   "id": "6dbdb1903047a0d6"
  },
  {
   "metadata": {
    "ExecuteTime": {
     "end_time": "2025-01-24T11:24:11.120591Z",
     "start_time": "2025-01-24T11:24:11.115924Z"
    }
   },
   "cell_type": "code",
   "source": "print((2==3) or (10 == 10))",
   "id": "97aa948425ef9d90",
   "outputs": [
    {
     "name": "stdout",
     "output_type": "stream",
     "text": [
      "True\n"
     ]
    }
   ],
   "execution_count": 6
  },
  {
   "metadata": {},
   "cell_type": "markdown",
   "source": [
    "Ora proviamo con questo. Sembra difficile? Non ti preoccupare, con l'abitudine diventerà molto più semplice\n",
    "Esercizio 2: capire perché questo risultato fa \"falso\""
   ],
   "id": "44ef78363ef29fe6"
  },
  {
   "metadata": {
    "ExecuteTime": {
     "end_time": "2025-01-24T11:24:09.081486Z",
     "start_time": "2025-01-24T11:24:09.075355Z"
    }
   },
   "cell_type": "code",
   "source": "print((2!=3) and (5 != 5))",
   "id": "72e2c8c261c2ffc8",
   "outputs": [
    {
     "name": "stdout",
     "output_type": "stream",
     "text": [
      "False\n"
     ]
    }
   ],
   "execution_count": 5
  },
  {
   "metadata": {},
   "cell_type": "markdown",
   "source": "Questi operatori permettono di applicate, dati due valori booleani, le operazioni logiche di \"e\" ed \"oppure\"",
   "id": "a82be094ddf5c655"
  },
  {
   "metadata": {},
   "cell_type": "markdown",
   "source": [
    "Per concludere...i conditionals!\n",
    "I valori booleani servono a permettere al computer di fare qualcosa se è vera una *condizione*. <br>\n",
    "Il costrutto in questione è detto if"
   ],
   "id": "9574d856f814a44"
  },
  {
   "metadata": {
    "ExecuteTime": {
     "end_time": "2025-01-24T11:40:25.981292Z",
     "start_time": "2025-01-24T11:40:25.977096Z"
    }
   },
   "cell_type": "code",
   "source": [
    "#Esempio\n",
    "if 2 == 4: #falso!\n",
    "    print('due è uguale a 4')"
   ],
   "id": "2e6e1f05dc70d08",
   "outputs": [],
   "execution_count": 7
  },
  {
   "metadata": {},
   "cell_type": "markdown",
   "source": "Non stampa niente! Perché 2 == 4 è falso",
   "id": "73cc9d5f99289ed5"
  },
  {
   "metadata": {},
   "cell_type": "code",
   "outputs": [],
   "execution_count": null,
   "source": [
    "#Esempio 2\n",
    "if 2 == 2:\n",
    "    print('due è uguale a sé stesso!')"
   ],
   "id": "78a419fa2fc199a9"
  },
  {
   "metadata": {},
   "cell_type": "markdown",
   "source": "Questa volta invece stampa!",
   "id": "cc4fce3534a382fc"
  },
  {
   "metadata": {},
   "cell_type": "markdown",
   "source": "Introduciamo ora il concetto di if - else",
   "id": "39d7b3e62c23a364"
  },
  {
   "metadata": {},
   "cell_type": "code",
   "outputs": [],
   "execution_count": null,
   "source": [
    "if 2 == 3:\n",
    "    print('impossibile')\n",
    "else:\n",
    "    print('sono diversi')"
   ],
   "id": "2497e232d213e0cf"
  },
  {
   "metadata": {},
   "cell_type": "markdown",
   "source": "Variante con catene di if\n",
   "id": "f1ec083ed9459ddd"
  },
  {
   "metadata": {},
   "cell_type": "code",
   "outputs": [],
   "execution_count": null,
   "source": [
    "numero = 3\n",
    "if numero == 1:\n",
    "    print('uno')\n",
    "elif numero == 2:\n",
    "    print('due')\n",
    "elif numero == 3:\n",
    "    print('tre')\n",
    "else:\n",
    "    print('qualche altro numero')"
   ],
   "id": "2e4619c481985465"
  },
  {
   "metadata": {},
   "cell_type": "markdown",
   "source": "Codice di esempio che, in una lista di numeri, stampa solo quelli uguali a 2",
   "id": "882671888b81562e"
  },
  {
   "metadata": {
    "ExecuteTime": {
     "end_time": "2025-01-24T11:47:20.572483Z",
     "start_time": "2025-01-24T11:47:20.567041Z"
    }
   },
   "cell_type": "code",
   "source": [
    "lista_numeri = [1,2,3,1,2,3,4,3,3,1,2,22,2,2,1,2]\n",
    "for numero in lista_numeri:\n",
    "    if numero == 2:\n",
    "        print(numero)"
   ],
   "id": "b502b7e91eacebd2",
   "outputs": [
    {
     "name": "stdout",
     "output_type": "stream",
     "text": [
      "2\n",
      "2\n",
      "2\n",
      "2\n",
      "2\n",
      "2\n"
     ]
    }
   ],
   "execution_count": 8
  },
  {
   "metadata": {},
   "cell_type": "code",
   "outputs": [],
   "execution_count": null,
   "source": [
    "#TODO scrivi un codice che, data una lista di numeri, conta quante volte ha incontrato un 2\n",
    "#suggerimento: somiglia a quello di prima\n",
    "#altro suggerimento: usa una variabile \"contatore\" che, partendo da zero, viene aumentata di 1 ogni volta che si incontra un due"
   ],
   "id": "30bfa5d8482b1871"
  }
 ],
 "metadata": {
  "kernelspec": {
   "display_name": "Python 3",
   "language": "python",
   "name": "python3"
  },
  "language_info": {
   "codemirror_mode": {
    "name": "ipython",
    "version": 2
   },
   "file_extension": ".py",
   "mimetype": "text/x-python",
   "name": "python",
   "nbconvert_exporter": "python",
   "pygments_lexer": "ipython2",
   "version": "2.7.6"
  }
 },
 "nbformat": 4,
 "nbformat_minor": 5
}
