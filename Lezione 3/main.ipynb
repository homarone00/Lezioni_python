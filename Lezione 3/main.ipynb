{
 "cells": [
  {
   "metadata": {},
   "cell_type": "markdown",
   "source": [
    "# Neuropython - Lezione 3\n",
    "## il not\n",
    "Mettere un not davanti ad un'espressione booleana, inverte il suo valore di verità"
   ],
   "id": "84d0723edeff5752"
  },
  {
   "metadata": {},
   "cell_type": "code",
   "source": [
    "print(2>3) #falso!\n",
    "print(not 2>3) #vero!"
   ],
   "id": "6a1fb474e0206bb5",
   "outputs": [],
   "execution_count": null
  },
  {
   "metadata": {},
   "cell_type": "markdown",
   "source": "## operatori booleani utili",
   "id": "b1d512c271311b2a"
  },
  {
   "metadata": {},
   "cell_type": "code",
   "source": [
    "print('parola' in 'frase che contiene parola')\n",
    "print('parola' in 'frase che non la contiene')"
   ],
   "id": "acfded1ac77a24b6",
   "outputs": [],
   "execution_count": null
  },
  {
   "metadata": {},
   "cell_type": "code",
   "source": [
    "print(2>3) #maggiore\n",
    "print(2<3) #minore\n",
    "print(2>=3) #maggiore o uguale\n",
    "print(2<=2) #minore o uguale"
   ],
   "id": "eba7c651be843f1d",
   "outputs": [],
   "execution_count": null
  },
  {
   "metadata": {},
   "cell_type": "markdown",
   "source": [
    "## Le funzioni\n",
    "### Use case:\n",
    "Abbiamo un'operazione banale che verrà ripetuta più volte nel nostro codice: calcolare il numero di 'a' dentro ad una stringa"
   ],
   "id": "6a31ee5b356a2134"
  },
  {
   "metadata": {},
   "cell_type": "code",
   "source": [
    "str_1 = 'ciao'\n",
    "str_2 = 'a'\n",
    "str_3 = 'tutti/e'\n",
    "str_4 = 'come'\n",
    "str_5 = 'state?'"
   ],
   "id": "f0c54f7fa64c9269",
   "outputs": [],
   "execution_count": null
  },
  {
   "metadata": {},
   "cell_type": "markdown",
   "source": "Scrivo il codice che cerca il numero di 'a'",
   "id": "6f8d458c84a3d403"
  },
  {
   "metadata": {},
   "cell_type": "code",
   "source": [
    "numero_di_a_trovate = 0\n",
    "for lettera in str_1:\n",
    "    if lettera == 'a':\n",
    "        numero_di_a_trovate+=1\n",
    "print(numero_di_a_trovate)"
   ],
   "id": "8c4e40fd18a4e6eb",
   "outputs": [],
   "execution_count": null
  },
  {
   "metadata": {},
   "cell_type": "markdown",
   "source": "Ora lo devo fare per tutte le stringhe:",
   "id": "f04150e6e7a74656"
  },
  {
   "metadata": {},
   "cell_type": "code",
   "source": [
    "numero_di_a_trovate = 0\n",
    "for lettera in str_1:\n",
    "    if lettera == 'a':\n",
    "        numero_di_a_trovate+=1\n",
    "print(numero_di_a_trovate)\n",
    "\n",
    "numero_di_a_trovate = 0\n",
    "for lettera in str_2:\n",
    "    if lettera == 'a':\n",
    "        numero_di_a_trovate+=1\n",
    "print(numero_di_a_trovate)\n",
    "\n",
    "numero_di_a_trovate = 0\n",
    "for lettera in str_3:\n",
    "    if lettera == 'a':\n",
    "        numero_di_a_trovate+=1\n",
    "print(numero_di_a_trovate)\n",
    "\n",
    "numero_di_a_trovate = 0\n",
    "for lettera in str_4:\n",
    "    if lettera == 'a':\n",
    "        numero_di_a_trovate+=1\n",
    "print(numero_di_a_trovate)\n",
    "\n",
    "numero_di_a_trovate = 0\n",
    "for lettera in str_5:\n",
    "    if lettera == 'a':\n",
    "        numero_di_a_trovate+=1\n",
    "print(numero_di_a_trovate)"
   ],
   "id": "e02fbf1b97cff08c",
   "outputs": [],
   "execution_count": null
  },
  {
   "metadata": {},
   "cell_type": "markdown",
   "source": [
    "Che schifo! Soluzione? Usare le funzioni.\n",
    "Le funzioni ci permettono di scrivere da qualche parte una serie di operazioni, e poi non doverle più riscrivere --> risparmiando tempo --> andando a casa prima.\n",
    "Sintassi:"
   ],
   "id": "72bb1bcd26e3066c"
  },
  {
   "metadata": {},
   "cell_type": "code",
   "source": [
    "def numefunzione(parametro1, parametro2): #metti un numero di parametri che ti pare\n",
    "    #operazione con parametro1\n",
    "    #operazione con parametro2\n",
    "    qualcosa_che_definisco_qui_dentro = 0\n",
    "    return qualcosa_che_definisco_qui_dentro"
   ],
   "id": "dbf500949a19b3c9",
   "outputs": [],
   "execution_count": null
  },
  {
   "metadata": {},
   "cell_type": "markdown",
   "source": "La cosa dopo il return, è il valore in uscita che otteniamo dalla funzione. Proviamo a risolvere il problema di prima con una funzione:",
   "id": "8b76954d3d31702e"
  },
  {
   "metadata": {},
   "cell_type": "code",
   "source": [
    "str_1 = 'ciao'\n",
    "str_2 = 'a'\n",
    "str_3 = 'tutti/e'\n",
    "str_4 = 'come'\n",
    "str_5 = 'state?'\n",
    "str_6 = 'aaaaaaaaaaaaaaaaaaaaaaaaaa'\n",
    "\n",
    "def conta_a(stringa):\n",
    "    numero_di_a_trovate = 0\n",
    "    for lettera in stringa:\n",
    "        if lettera == 'a':\n",
    "            numero_di_a_trovate+=1\n",
    "    return numero_di_a_trovate\n",
    "\n",
    "#abbiamo definito la funzione. ora la dobbiamo chiamare!\n",
    "print(conta_a(str_1))\n",
    "#oppure\n",
    "risultato = conta_a(str_2)\n",
    "print(risultato)\n",
    "#o anche\n",
    "risultato_somma = conta_a(str_3) + conta_a(str_4) + conta_a(str_5) + conta_a(str_6)\n",
    "print(risultato_somma)"
   ],
   "id": "f71ff261c79770e4",
   "outputs": [],
   "execution_count": null
  },
  {
   "metadata": {},
   "cell_type": "markdown",
   "source": [
    "Facciamo delle prove!\n",
    "## ES1:\n",
    "Nella cartella Lezione 3, crea un file python in cui dichiari due variabili intere chiamate \"base\" e \"altezza\", a due valori che scegli. Dichiara poi una funzione di nome \"area\"\n",
    "che ritorna il valore dell'area del rettangolo (base * altezza). Stampa il risultato.\n",
    "\n",
    "## ES2:\n",
    "Nella cartella Lezione 3, crea un file python in cui dichiari una lista di caratteri e una stringa. Definisci una funzione che conta quante volte ciascuna delle lettere della lista appare nella stringa. Usa un contatore unico, ritorna e stampa il risultato.\n",
    "\n",
    "## ES3:\n",
    "Nella cartella Lezione 3, crea un file python in cui estrai un numero compreso fra 0 e 50 casualmente e poi controlli se è maggiore o minore di 25. Come si estrae casualmente un numero? Non l'ho spiegato, ma si può velocemente trovare su internet la risposta."
   ],
   "id": "d9de8e6b68a33fa5"
  }
 ],
 "metadata": {
  "kernelspec": {
   "display_name": "Python 3",
   "language": "python",
   "name": "python3"
  },
  "language_info": {
   "codemirror_mode": {
    "name": "ipython",
    "version": 2
   },
   "file_extension": ".py",
   "mimetype": "text/x-python",
   "name": "python",
   "nbconvert_exporter": "python",
   "pygments_lexer": "ipython2",
   "version": "2.7.6"
  }
 },
 "nbformat": 4,
 "nbformat_minor": 5
}
