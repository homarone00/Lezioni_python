{
 "nbformat": 4,
 "nbformat_minor": 0,
 "metadata": {
  "colab": {
   "provenance": []
  },
  "kernelspec": {
   "name": "python3",
   "display_name": "Python 3 (ipykernel)",
   "language": "python"
  },
  "language_info": {
   "name": "python"
  }
 },
 "cells": [
  {
   "cell_type": "markdown",
   "source": [
    "# Neuropython - Lezione 1\n",
    "# Le \"basi basi\""
   ],
   "metadata": {
    "id": "gBNspgnQrobL"
   }
  },
  {
   "cell_type": "markdown",
   "source": [
    "Questo piccolo corso è ispirato al corso di python di google, reperibile al link: https://developers.google.com/edu/python\n",
    "Sono state fatte, tuttavia, sostanzali modifiche."
   ],
   "metadata": {
    "id": "4hHamj2cr3K2"
   }
  },
  {
   "cell_type": "markdown",
   "source": [
    "#Il concetto di variabile\n",
    "Una variabile è una scatoletta che contiene un qualsiasi tipo di dato.\n",
    "E' caratterizzata da 3 proprietà:\n",
    "- Tipo\n",
    "- Nome\n",
    "- Dato\n",
    "\n",
    "Le variabili vengono inizializzate con il simbolo = , e visualizzate con la funzione print()"
   ],
   "metadata": {
    "id": "DNTkJ1DmsW1H"
   }
  },
  {
   "cell_type": "code",
   "execution_count": 12,
   "metadata": {
    "id": "S-RhkE6mreGk",
    "colab": {
     "base_uri": "https://localhost:8080/"
    },
    "executionInfo": {
     "status": "ok",
     "timestamp": 1734427822560,
     "user_tz": -60,
     "elapsed": 394,
     "user": {
      "displayName": "OMAR CARPENTIERO",
      "userId": "11579528283701124362"
     }
    },
    "outputId": "57265ba9-99df-49a9-bee4-d8c8f3d662ae"
   },
   "outputs": [
    {
     "output_type": "stream",
     "name": "stdout",
     "text": [
      "5\n"
     ]
    }
   ],
   "source": [
    "a = 5 #variabile di nome a, che vale 5\n",
    "print(a) #mostro il valore di a"
   ]
  },
  {
   "cell_type": "markdown",
   "source": [
    "Il tipo di una variabile dipende da come la inizializziamo. Possiamo sempre visualizzarlo facendo:"
   ],
   "metadata": {
    "id": "NoZpn08stBNU"
   }
  },
  {
   "cell_type": "code",
   "source": [
    "a = 5\n",
    "print(type(a))"
   ],
   "metadata": {
    "id": "cMHSX5ixtGeq",
    "colab": {
     "base_uri": "https://localhost:8080/"
    },
    "executionInfo": {
     "status": "ok",
     "timestamp": 1734427892502,
     "user_tz": -60,
     "elapsed": 479,
     "user": {
      "displayName": "OMAR CARPENTIERO",
      "userId": "11579528283701124362"
     }
    },
    "outputId": "aca9908c-55f7-48a4-d7f1-5f0f08a2091f"
   },
   "execution_count": 13,
   "outputs": [
    {
     "output_type": "stream",
     "name": "stdout",
     "text": [
      "<class 'int'>\n"
     ]
    }
   ]
  },
  {
   "cell_type": "markdown",
   "source": [
    "Ecco altri tipi di variabili"
   ],
   "metadata": {
    "id": "TTCP2JRDtTmF"
   }
  },
  {
   "cell_type": "code",
   "source": [
    "parola = 'ciao'\n",
    "b = 5\n",
    "c = 5.5\n",
    "d = True\n",
    "e = [2,3,4,5]\n",
    "#TODO usare le print per visualizzare il tipo di queste variabili\n"
   ],
   "metadata": {
    "id": "503K1ZI_tYFj"
   },
   "execution_count": null,
   "outputs": []
  },
  {
   "cell_type": "markdown",
   "source": [
    "#Operatori\n",
    "Gli operatori ci permettono di fare operazioni utili usando variabili e valori immediati.\n"
   ],
   "metadata": {
    "id": "owcMv_dFuCSm"
   }
  },
  {
   "cell_type": "code",
   "source": [
    "a = 5\n",
    "b = 6\n",
    "c = a + b\n",
    "print(c)"
   ],
   "metadata": {
    "id": "oGFwQ1IpuLfe"
   },
   "execution_count": null,
   "outputs": []
  },
  {
   "cell_type": "markdown",
   "source": [
    "In queste 4 righe di codice, ho prima dichiarato *a,b* con i rispettivi valori, poi ho detto che il valore di *c* è uguale ad a + b\n"
   ],
   "metadata": {
    "id": "ndgT9Ky9uRcW"
   }
  },
  {
   "cell_type": "code",
   "source": [
    "#scrivere 4 variabili, che contengono il risultato delle seguenti operazioni:\n",
    "a = 5\n",
    "b = 6\n",
    "\n",
    "#TODO implementa l'addizione, come prima\n",
    "somma = a + b #SOLUZIONE\n",
    "print(somma)\n",
    "\n",
    "#TODO implementa la sottrazione, come prima, usa il simbolo -\n",
    "differenza = a - b #SOLUZIONE\n",
    "print(differenza)\n",
    "\n",
    "#TODO implementa la moltiplicazione, usando *\n",
    "prodotto = a * b #SOLUZIONE\n",
    "print(prodotto)\n",
    "\n",
    "#TODO implementa la divisione, usando /\n",
    "quoziente = a / b #SOLUZIONE\n",
    "print(quoziente)\n",
    "\n",
    "#TODO controlla il tipo di quoziente\n"
   ],
   "metadata": {
    "id": "_NgILsnfunzU"
   },
   "execution_count": null,
   "outputs": []
  },
  {
   "cell_type": "markdown",
   "source": [
    "Esempio che sarà utile dopo\n",
    "\n",
    "Se voglio sommare più valori dentro la stessa variabile, posso fare:\n",
    "```\n",
    "numero1 = 1\n",
    "numero2 = 1\n",
    "numero3 = 3\n",
    "totale = 0\n",
    "\n",
    "totale = totale + numero1\n",
    "totale = totale + numero2\n",
    "totale = totale + numero3\n",
    "```\n",
    "Quanto vale totale?\n"
   ],
   "metadata": {
    "id": "6zxetSj5yOtq"
   }
  },
  {
   "cell_type": "code",
   "source": [
    "#TODO prova a scrivere da zero il codice sopra e vedere se totale è effettivamente la somma\n",
    "\n",
    "numero1 = 1\n",
    "numero2 = 1\n",
    "numero3 = 3\n",
    "totale = 0\n",
    "\n",
    "totale = totale + numero1\n",
    "totale = totale + numero2\n",
    "totale = totale + numero3\n",
    "print(totale)\n"
   ],
   "metadata": {
    "id": "ZpAxr9wWyn27",
    "colab": {
     "base_uri": "https://localhost:8080/"
    },
    "executionInfo": {
     "status": "ok",
     "timestamp": 1734429053295,
     "user_tz": -60,
     "elapsed": 371,
     "user": {
      "displayName": "OMAR CARPENTIERO",
      "userId": "11579528283701124362"
     }
    },
    "outputId": "1ccd2970-df7b-4755-ad75-a551adcfa00c"
   },
   "execution_count": 15,
   "outputs": [
    {
     "output_type": "stream",
     "name": "stdout",
     "text": [
      "5\n"
     ]
    }
   ]
  },
  {
   "cell_type": "markdown",
   "source": [
    "Anche le stringe hanno degli operatori. Quello che ci interessa è il +"
   ],
   "metadata": {
    "id": "30PBbxcyvg22"
   }
  },
  {
   "cell_type": "code",
   "source": [
    "parola1 = 'ciao'\n",
    "spazio = ' '\n",
    "parola2 = 'mondo!'\n",
    "\n",
    "#TODO dichiarare la variabile totale come la \"somma\" delle 3 stringhe di prima, e vedere cosa succede\n",
    "totale = parola1 + spazio + parola2 #SOLUZIONE\n",
    "print(totale)"
   ],
   "metadata": {
    "id": "Z-og1u5tvtPp"
   },
   "execution_count": null,
   "outputs": []
  },
  {
   "cell_type": "markdown",
   "source": [
    "#Liste\n",
    "Senza le liste si fa ben poco. Immaginiamole come delle variabili, che al loro interno contengono una lista di variabili."
   ],
   "metadata": {
    "id": "-IX5rxAwwMcO"
   }
  },
  {
   "cell_type": "code",
   "source": [
    "lista_interi = [1,2,3,4] #lista di quattro interi\n",
    "lista_stringhe = ['uno','due','tre','quattro'] #lista di 4 stringhe"
   ],
   "metadata": {
    "id": "_6OExSRCwVia"
   },
   "execution_count": null,
   "outputs": []
  },
  {
   "cell_type": "markdown",
   "source": [
    "Ok e...come si usano? Per lavorare sulle liste dobbiamo introdurre il concetto di ciclo for.\n",
    "I cicli for ci permettono di fare una specifica operazione per ciascun membro della lista, iterando su di essa."
   ],
   "metadata": {
    "id": "LubWRmzSwkb1"
   }
  },
  {
   "cell_type": "code",
   "source": [
    "lista_interi = [1,2,3,4] #lista di quattro interi\n",
    "for numero in lista_interi:\n",
    "print(numero)"
   ],
   "metadata": {
    "id": "TCWZ6LbTwzNJ"
   },
   "execution_count": null,
   "outputs": []
  },
  {
   "cell_type": "markdown",
   "source": [
    "???\n",
    "Indentation error? Cos'è?\n",
    "Python è uno dei pochi linguaggi che richiede un'indentazione OBBLIGATORIA.\n",
    "Tutte le cose dentro un for, devono essere precedute da un tab (generalmente messo automaticamente)"
   ],
   "metadata": {
    "id": "_KI9DDMnxPGA"
   }
  },
  {
   "cell_type": "code",
   "source": [
    "lista_interi = [1,2,3,4] #lista di quattro interi\n",
    "for numero in lista_interi:\n",
    "  print(numero)"
   ],
   "metadata": {
    "colab": {
     "base_uri": "https://localhost:8080/"
    },
    "id": "KUzXcW9ZxgCY",
    "executionInfo": {
     "status": "ok",
     "timestamp": 1734424815221,
     "user_tz": -60,
     "elapsed": 409,
     "user": {
      "displayName": "OMAR CARPENTIERO",
      "userId": "11579528283701124362"
     }
    },
    "outputId": "e98d6375-2aa7-48db-cdae-15ad8ad3e218"
   },
   "execution_count": null,
   "outputs": [
    {
     "output_type": "stream",
     "name": "stdout",
     "text": [
      "1\n",
      "2\n",
      "3\n",
      "4\n"
     ]
    }
   ]
  },
  {
   "cell_type": "markdown",
   "source": [
    "Ora facciamo al stessa cosa ma printiamo il doppio di ciascun numero"
   ],
   "metadata": {
    "id": "PGISQNx1xpnG"
   }
  },
  {
   "cell_type": "code",
   "source": [
    "lista_interi = [1,2,3,4] #lista di quattro interi\n",
    "for numero in lista_interi:\n",
    "  print(numero * 2)"
   ],
   "metadata": {
    "colab": {
     "base_uri": "https://localhost:8080/"
    },
    "id": "DW3xeeE_xpJ5",
    "executionInfo": {
     "status": "ok",
     "timestamp": 1734424894323,
     "user_tz": -60,
     "elapsed": 352,
     "user": {
      "displayName": "OMAR CARPENTIERO",
      "userId": "11579528283701124362"
     }
    },
    "outputId": "dfd43c38-806f-48a7-ef18-32cee4c71851"
   },
   "execution_count": null,
   "outputs": [
    {
     "output_type": "stream",
     "name": "stdout",
     "text": [
      "2\n",
      "4\n",
      "6\n",
      "8\n"
     ]
    }
   ]
  },
  {
   "cell_type": "code",
   "source": [
    "#implementazione brutta\n",
    "totale = 0\n",
    "n1 = 1\n",
    "n2 = 2\n",
    "n3 = 3\n",
    "n4 = 4\n",
    "totale = n1 + n2 + n3 + n4\n",
    "\n",
    "#TODO trovare un modo per mostrare, usando i for, la somma totale dei numeri\n",
    "totale=0\n",
    "lista_interi = [1,2,3,4]\n",
    "#scrivere il for qua\n",
    "\n",
    "for numero in lista_interi: #SOLUZIONE\n",
    "    print(numero)"
   ],
   "metadata": {
    "id": "oT7_608wx7Ig"
   },
   "execution_count": null,
   "outputs": []
  },
  {
   "cell_type": "markdown",
   "source": [
    "Ultima cosa! Accesso diretto ad uno specifico membro di una lista.\n",
    "abbiamo una lista, del tipo:\n",
    "\n",
    "\n",
    "```\n",
    "lista_interi = [1,2,3,4]\n",
    "```\n",
    "\n",
    "Come si fa a prendere solo uno specifico numero, senza doverli scorrere tutti con un for?\n",
    "con l'operatore []\n",
    "\n"
   ],
   "metadata": {
    "id": "44thddqXzK74"
   }
  },
  {
   "cell_type": "code",
   "source": [
    "lista_interi = [1,2,3,4]\n",
    "tre = lista_interi[2]"
   ],
   "metadata": {
    "id": "hfFCaBQszsIi"
   },
   "execution_count": null,
   "outputs": []
  },
  {
   "cell_type": "markdown",
   "source": [
    "Ma...tre non è nella terza posizione...?\n",
    "Sì, ma nei linguaggi di programmazione si parte a contare dallo zero"
   ],
   "metadata": {
    "id": "sDvcPnD5zzo0"
   }
  },
  {
   "cell_type": "code",
   "source": [
    "lista_interi = [1,2,3,4]\n",
    "uno = lista_interi[0]\n",
    "#TODO prendi anche gli altri valori e stampali tutti e 4\n",
    "due = lista_interi[1] #SOLUZIONE\n",
    "print(due)\n",
    "\n",
    "tre = lista_interi[2] #SOLUZIONE\n",
    "print(tre)\n",
    "\n",
    "quattro = lista_interi[3] #SOLUZIONE\n",
    "print(quattro)"
   ],
   "metadata": {
    "id": "WRic0f4Xz8ZL",
    "ExecuteTime": {
     "end_time": "2025-01-24T11:09:03.809389Z",
     "start_time": "2025-01-24T11:09:03.797258Z"
    }
   },
   "outputs": [
    {
     "name": "stdout",
     "output_type": "stream",
     "text": [
      "2\n",
      "3\n",
      "4\n"
     ]
    }
   ],
   "execution_count": 1
  }
 ]
}
